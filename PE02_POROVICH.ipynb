{
 "cells": [
  {
   "cell_type": "code",
   "execution_count": null,
   "id": "ff0b81b4",
   "metadata": {},
   "outputs": [],
   "source": [
    "def binary_search(list, item):  #a function that takes two arguements a list and a number \n",
    "    low = 0                 #starting low index\n",
    "    high = len(list) - 1    #starting high index\n",
    "\n",
    "    while low <= high:      #while you haven't found the index of the item in the list\n",
    "        mid = round((low + high) / 2)\n",
    "        guess = list[mid] \n",
    "        if guess == item:   #if middle number is equal to item return position\n",
    "            return mid\n",
    "        if guess > item:    #if guess is higher than item change value of high\n",
    "            high = mid - 1\n",
    "        else:               #if guess is lower than item change value of low\n",
    "            low = mid + 1\n",
    "    return None         #if number not found return None\n",
    "\n",
    "my_list = [1, 3, 5, 7, 9, 11, 13, 15, 17]\n",
    "\n",
    "print(binary_search(my_list, 3))\n",
    "print(binary_search(my_list, -1))\n",
    "print(binary_search(my_list, 11))\n",
    "print(binary_search(my_list, 17))\n",
    "print(binary_search(my_list, 12))"
   ]
  },
  {
   "cell_type": "markdown",
   "id": "2463f481",
   "metadata": {},
   "source": [
    "With the original code, \"mid\" was the addition of the high and low indices and not the midpoint. When I corrected it to be the midpoint by just dividing by two, it gave the error that indices cannot be floats. I used the round function to make \"mid\" an integer. "
   ]
  }
 ],
 "metadata": {
  "kernelspec": {
   "display_name": "Python 3",
   "language": "python",
   "name": "python3"
  },
  "language_info": {
   "codemirror_mode": {
    "name": "ipython",
    "version": 3
   },
   "file_extension": ".py",
   "mimetype": "text/x-python",
   "name": "python",
   "nbconvert_exporter": "python",
   "pygments_lexer": "ipython3",
   "version": "3.11.5"
  }
 },
 "nbformat": 4,
 "nbformat_minor": 5
}
